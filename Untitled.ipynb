{
 "cells": [
  {
   "cell_type": "markdown",
   "id": "6e82dafc-ea0d-4144-a1c0-78e5987c041a",
   "metadata": {},
   "source": [
    "# asfkl\n",
    "**sadfkl**\n",
    "\n",
    "## sdfkldsa"
   ]
  },
  {
   "cell_type": "code",
   "execution_count": null,
   "id": "e9e2ca6e-791e-4a06-a089-ad3a7a4a79ec",
   "metadata": {},
   "outputs": [],
   "source": []
  },
  {
   "cell_type": "code",
   "execution_count": null,
   "id": "8afcfa5f-fce7-45fc-b5be-df5f70bce14a",
   "metadata": {},
   "outputs": [],
   "source": []
  }
 ],
 "metadata": {
  "kernelspec": {
   "display_name": "Python 3 (ipykernel)",
   "language": "python",
   "name": "python3"
  },
  "language_info": {
   "codemirror_mode": {
    "name": "ipython",
    "version": 3
   },
   "file_extension": ".py",
   "mimetype": "text/x-python",
   "name": "python",
   "nbconvert_exporter": "python",
   "pygments_lexer": "ipython3",
   "version": "3.10.4"
  }
 },
 "nbformat": 4,
 "nbformat_minor": 5
}
